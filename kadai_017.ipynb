{
  "nbformat": 4,
  "nbformat_minor": 0,
  "metadata": {
    "colab": {
      "provenance": []
    },
    "kernelspec": {
      "name": "python3",
      "display_name": "Python 3"
    },
    "language_info": {
      "name": "python"
    }
  },
  "cells": [
    {
      "cell_type": "code",
      "execution_count": 4,
      "metadata": {
        "colab": {
          "base_uri": "https://localhost:8080/"
        },
        "id": "rvxkZ3uxp2cz",
        "outputId": "e1b19be3-fe3f-4f8a-a08d-6afb1a8076bf"
      },
      "outputs": [
        {
          "output_type": "stream",
          "name": "stdout",
          "text": [
            "大人\n"
          ]
        }
      ],
      "source": [
        "class Human:\n",
        "  def __init__(self,name,age):\n",
        "        self.name = name\n",
        "        self.age = age\n",
        "  def check_adult(self):\n",
        "       if self.age >= 20:\n",
        "        print(\"大人\")\n",
        "       else:\n",
        "        print(\"大人でない\")\n",
        "\n",
        "human = Human(\"Keiya\",26)\n",
        "\n",
        "human.check_adult()"
      ]
    }
  ]
}