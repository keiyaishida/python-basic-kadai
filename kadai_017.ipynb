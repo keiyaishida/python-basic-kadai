{
  "nbformat": 4,
  "nbformat_minor": 0,
  "metadata": {
    "colab": {
      "provenance": []
    },
    "kernelspec": {
      "name": "python3",
      "display_name": "Python 3"
    },
    "language_info": {
      "name": "python"
    }
  },
  "cells": [
    {
      "cell_type": "code",
      "execution_count": 7,
      "metadata": {
        "colab": {
          "base_uri": "https://localhost:8080/"
        },
        "id": "rvxkZ3uxp2cz",
        "outputId": "3947735a-5446-4784-b6a8-69f9695059f8"
      },
      "outputs": [
        {
          "output_type": "stream",
          "name": "stdout",
          "text": [
            "Keiyaは大人\n",
            "Keisukeは大人\n",
            "Keitaは大人でない\n"
          ]
        }
      ],
      "source": [
        "class Human:\n",
        "  def __init__(self,name,age):\n",
        "        self.name = name\n",
        "        self.age = age\n",
        "  def check_adult(self):\n",
        "       if self.age >= 20:\n",
        "        print(f\"{self.name}は大人\")\n",
        "       else:\n",
        "        print(f\"{self.name}は大人でない\")\n",
        "\n",
        "human_list1 = Human(\"Keiya\",26)\n",
        "human_list2 = Human(\"Keisuke\",22)\n",
        "human_list3 = Human(\"Keita\",18)\n",
        "\n",
        "human_list = [human_list1,human_list2,human_list3]\n",
        "\n",
        "for human in human_list:\n",
        "  human.check_adult()"
      ]
    }
  ]
}