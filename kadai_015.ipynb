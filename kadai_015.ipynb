{
  "nbformat": 4,
  "nbformat_minor": 0,
  "metadata": {
    "colab": {
      "provenance": []
    },
    "kernelspec": {
      "name": "python3",
      "display_name": "Python 3"
    },
    "language_info": {
      "name": "python"
    }
  },
  "cells": [
    {
      "cell_type": "code",
      "execution_count": 2,
      "metadata": {
        "colab": {
          "base_uri": "https://localhost:8080/"
        },
        "id": "sQ1y7jC0X64K",
        "outputId": "96428f4f-52fe-47d3-fef4-5a096dcb5506"
      },
      "outputs": [
        {
          "output_type": "stream",
          "name": "stdout",
          "text": [
            "Keiya 26\n"
          ]
        }
      ],
      "source": [
        "class Human:\n",
        "  def __init__(self,name,age):\n",
        "        self.name = name\n",
        "        self.age = age\n",
        "  def printinfo(self):\n",
        "        print(self.name, self.age)\n",
        "\n",
        "human = Human(\"Keiya\",26)\n",
        "\n",
        "human.printinfo()\n"
      ]
    }
  ]
}