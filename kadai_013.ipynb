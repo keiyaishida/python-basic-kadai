{
  "nbformat": 4,
  "nbformat_minor": 0,
  "metadata": {
    "colab": {
      "provenance": []
    },
    "kernelspec": {
      "name": "python3",
      "display_name": "Python 3"
    },
    "language_info": {
      "name": "python"
    }
  },
  "cells": [
    {
      "cell_type": "code",
      "execution_count": 14,
      "metadata": {
        "colab": {
          "base_uri": "https://localhost:8080/"
        },
        "id": "gpjwIfWd_BCV",
        "outputId": "b0b95301-a313-4d35-be57-999c6d977acb"
      },
      "outputs": [
        {
          "output_type": "stream",
          "name": "stdout",
          "text": [
            "330.0\n"
          ]
        }
      ],
      "source": [
        "def pricertax(price,tax):\n",
        "\n",
        " return price*(1+tax)\n",
        "\n",
        "pricertax(300,0.1)\n",
        "print(pricetax)"
      ]
    }
  ]
}