{
  "nbformat": 4,
  "nbformat_minor": 0,
  "metadata": {
    "colab": {
      "provenance": []
    },
    "kernelspec": {
      "name": "python3",
      "display_name": "Python 3"
    },
    "language_info": {
      "name": "python"
    }
  },
  "cells": [
    {
      "cell_type": "code",
      "execution_count": 32,
      "metadata": {
        "colab": {
          "base_uri": "https://localhost:8080/"
        },
        "id": "gpjwIfWd_BCV",
        "outputId": "0e843d71-a071-41e4-c3e6-ba2a165cee13"
      },
      "outputs": [
        {
          "output_type": "stream",
          "name": "stdout",
          "text": [
            "330.0\n"
          ]
        }
      ],
      "source": [
        "def price_tax(price,tax):\n",
        " tax_include = price*(1+tax)\n",
        " return tax_include\n",
        "\n",
        "tax_include = price_tax(300,0.1)\n",
        "print(tax_include)\n"
      ]
    }
  ]
}